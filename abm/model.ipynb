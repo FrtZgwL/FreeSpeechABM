{
 "cells": [
  {
   "cell_type": "code",
   "execution_count": 1,
   "metadata": {},
   "outputs": [],
   "source": [
    "import seaborn as sns\n",
    "import pandas as pnd\n",
    "import matplotlib.pyplot as plt\n",
    "import os\n",
    "import random as rnd\n",
    "import statistics as stat\n",
    "import numpy as np"
   ]
  },
  {
   "cell_type": "markdown",
   "metadata": {},
   "source": [
    "# Model"
   ]
  },
  {
   "cell_type": "markdown",
   "metadata": {},
   "source": [
    "Will ich das ganze hier Objektorientiert angehen? Ich könnte jeden Akteur als Objekt betrachten, mit assesment und peers. Ich frage mich aber auch schon, ob das Programm dann schnell läuft, oder ob es sich noch irgendwie optimieren lässt.\n",
    "\n",
    "Große Frage: Wie programmiere ich die Zeitschritte optimal?\n",
    "\n",
    "Ich will:\n",
    "\n",
    "- update the assesment of every agent to their observation and the mean of their peers\n",
    "- update the peers of every agent\n",
    "\n",
    "Dabei frage ich mich, ob ich die peers von jedem agent schneller finden kann als, indem ich jedes mal jeden anderen Akteur betrachte. (Das ist wichtig, weil die Simulationen sonst lange dauern)\n",
    "\n",
    "Das ginge, wenn ich die Akteure in einer Liste speichere, die nach ihrem assesment sortiert ist. Dann muss ich mich nur vom gegenwärtigen Akteur nach links und rechts vortasten und kann aufhören, sobald ich zwei finde, die weiter weg sind als epsilon. Ich müsste also die Liste sortieren, nachdem ich die assesments geupdated habe. Könnte sein, dass ich dabei ein paar Schritte spare.\n",
    "\n",
    "Ich programmiere es jetzt erstmal brute force und wenn ich Geschwindigkeitsprobleme kriege, probier ich die Version."
   ]
  },
  {
   "cell_type": "code",
   "execution_count": 95,
   "metadata": {},
   "outputs": [],
   "source": [
    "# --- globals --- #\n",
    "\n",
    "# let there be n agents with random initial assesements\n",
    "# every agent is represented by an integer in [0, n)\n",
    "n = 10\n",
    "epsilon = .3\n",
    "alpha = .4\n",
    "noise = .5\n",
    "tau = .1\n",
    "max_time = 5"
   ]
  },
  {
   "cell_type": "code",
   "execution_count": 90,
   "metadata": {},
   "outputs": [],
   "source": [
    "# --- classes --- #\n",
    "\n",
    "class Agent:\n",
    "    def __init__(self, id):\n",
    "        self.assesment = 1 - rnd.random() # values in (0, 1]\n",
    "        self.peers = set()\n",
    "        self.id = id\n",
    "    \n",
    "    def __str__(self):\n",
    "        return f\"assesment: {self.assesment} and peers: {self.peers}\"\n",
    "\n",
    "    def __repr__(self):\n",
    "        return f\"(Agent [{self.id}]: {self.assesment:.2f}, {self.peers})\"\n",
    "\n",
    "    def update_peers(self, agent_list):\n",
    "        for potential_peer in agent_list:\n",
    "            if (potential_peer.id != self.id and \n",
    "                    abs(potential_peer.assesment - self.assesment < epsilon)):\n",
    "                self.peers.add(potential_peer)"
   ]
  },
  {
   "cell_type": "code",
   "execution_count": 91,
   "metadata": {},
   "outputs": [],
   "source": [
    "# --- functions --- #\n",
    "\n",
    "def print_agent_list(agent_list):\n",
    "    print(\"[\")\n",
    "    for agent in agent_list:\n",
    "        representation = f\"    (Agent [{agent.id}]: {agent.assesment:.2f}, \" + \"{\"\n",
    "        representation += \", \".join(f\"[{peer.id}]\" for peer in agent.peers) + \"})\"\n",
    "    \n",
    "        print(representation)\n",
    "    print(\"]\")"
   ]
  },
  {
   "cell_type": "code",
   "execution_count": 92,
   "metadata": {},
   "outputs": [
    {
     "name": "stdout",
     "output_type": "stream",
     "text": [
      "[\n",
      "    (Agent [0]: 0.47, {})\n",
      "    (Agent [1]: 0.17, {})\n",
      "    (Agent [2]: 0.85, {})\n",
      "    (Agent [3]: 0.12, {})\n",
      "    (Agent [4]: 0.34, {})\n",
      "    (Agent [5]: 0.92, {})\n",
      "    (Agent [6]: 0.98, {})\n",
      "    (Agent [7]: 0.30, {})\n",
      "    (Agent [8]: 0.02, {})\n",
      "    (Agent [9]: 0.64, {})\n",
      "]\n"
     ]
    }
   ],
   "source": [
    "# --- main code --- #\n",
    "\n",
    "agents = [Agent(i) for i in range(n)]\n",
    "print_agent_list(agents)"
   ]
  },
  {
   "cell_type": "code",
   "execution_count": 93,
   "metadata": {},
   "outputs": [
    {
     "name": "stdout",
     "output_type": "stream",
     "text": [
      "[\n",
      "    (Agent [0]: 0.47, {[7], [9], [3], [8], [4], [1]})\n",
      "    (Agent [1]: 0.17, {[7], [3], [8], [0], [4]})\n",
      "    (Agent [2]: 0.85, {[7], [5], [9], [3], [8], [0], [6], [4], [1]})\n",
      "    (Agent [3]: 0.12, {[7], [4], [1], [8]})\n",
      "    (Agent [4]: 0.34, {[7], [3], [8], [0], [1]})\n",
      "    (Agent [5]: 0.92, {[7], [2], [9], [3], [8], [0], [6], [4], [1]})\n",
      "    (Agent [6]: 0.98, {[7], [2], [5], [9], [3], [8], [0], [4], [1]})\n",
      "    (Agent [7]: 0.30, {[3], [8], [0], [4], [1]})\n",
      "    (Agent [8]: 0.02, {[7], [1], [3]})\n",
      "    (Agent [9]: 0.64, {[7], [2], [5], [3], [8], [0], [4], [1]})\n",
      "]\n"
     ]
    }
   ],
   "source": [
    "# for each agent let there be a set of agents with similar assesments\n",
    "for i in range(n):\n",
    "    agents[i].update_peers(agents)\n",
    "\n",
    "print_agent_list(agents)"
   ]
  },
  {
   "cell_type": "code",
   "execution_count": 96,
   "metadata": {},
   "outputs": [
    {
     "name": "stdout",
     "output_type": "stream",
     "text": [
      "[\n",
      "    (Agent [0]: 0.08, {[7], [2], [5], [9], [3], [8], [6], [4], [1]})\n",
      "    (Agent [1]: 0.26, {[7], [2], [5], [9], [3], [8], [0], [6], [4]})\n",
      "    (Agent [2]: 0.28, {[7], [5], [9], [3], [8], [0], [6], [4], [1]})\n",
      "    (Agent [3]: 0.14, {[7], [2], [5], [9], [8], [0], [6], [4], [1]})\n",
      "    (Agent [4]: 0.24, {[7], [5], [9], [3], [8], [0], [6], [2], [1]})\n",
      "    (Agent [5]: 0.10, {[7], [2], [9], [3], [8], [0], [6], [4], [1]})\n",
      "    (Agent [6]: 0.16, {[7], [2], [5], [9], [3], [8], [0], [4], [1]})\n",
      "    (Agent [7]: 0.29, {[2], [5], [9], [3], [8], [0], [6], [4], [1]})\n",
      "    (Agent [8]: 0.08, {[7], [5], [9], [4], [3], [0], [6], [2], [1]})\n",
      "    (Agent [9]: 0.14, {[7], [2], [5], [3], [8], [0], [6], [4], [1]})\n",
      "]\n",
      "[\n",
      "    (Agent [0]: 0.32, {[7], [2], [5], [9], [3], [8], [6], [4], [1]})\n",
      "    (Agent [1]: 0.35, {[7], [2], [5], [9], [3], [8], [0], [6], [4]})\n",
      "    (Agent [2]: 0.10, {[7], [5], [9], [3], [8], [0], [6], [4], [1]})\n",
      "    (Agent [3]: 0.19, {[7], [2], [5], [9], [8], [0], [6], [4], [1]})\n",
      "    (Agent [4]: 0.27, {[7], [5], [9], [3], [8], [0], [6], [2], [1]})\n",
      "    (Agent [5]: 0.39, {[7], [2], [9], [3], [8], [0], [6], [4], [1]})\n",
      "    (Agent [6]: 0.22, {[7], [2], [5], [9], [3], [8], [0], [4], [1]})\n",
      "    (Agent [7]: 0.15, {[2], [5], [9], [3], [8], [0], [6], [4], [1]})\n",
      "    (Agent [8]: 0.16, {[7], [5], [9], [4], [3], [0], [6], [2], [1]})\n",
      "    (Agent [9]: 0.35, {[7], [2], [5], [3], [8], [0], [6], [4], [1]})\n",
      "]\n",
      "[\n",
      "    (Agent [0]: 0.21, {[7], [2], [5], [9], [3], [8], [6], [4], [1]})\n",
      "    (Agent [1]: 0.39, {[7], [2], [5], [9], [3], [8], [0], [6], [4]})\n",
      "    (Agent [2]: 0.13, {[7], [5], [9], [3], [8], [0], [6], [4], [1]})\n",
      "    (Agent [3]: 0.40, {[7], [2], [5], [9], [8], [0], [6], [4], [1]})\n",
      "    (Agent [4]: 0.30, {[7], [5], [9], [3], [8], [0], [6], [2], [1]})\n",
      "    (Agent [5]: 0.41, {[7], [2], [9], [3], [8], [0], [6], [4], [1]})\n",
      "    (Agent [6]: 0.23, {[7], [2], [5], [9], [3], [8], [0], [4], [1]})\n",
      "    (Agent [7]: 0.30, {[2], [5], [9], [3], [8], [0], [6], [4], [1]})\n",
      "    (Agent [8]: 0.23, {[7], [5], [9], [4], [3], [0], [6], [2], [1]})\n",
      "    (Agent [9]: 0.14, {[7], [2], [5], [3], [8], [0], [6], [4], [1]})\n",
      "]\n",
      "[\n",
      "    (Agent [0]: 0.34, {[7], [2], [5], [9], [3], [8], [6], [4], [1]})\n",
      "    (Agent [1]: 0.33, {[7], [2], [5], [9], [3], [8], [0], [6], [4]})\n",
      "    (Agent [2]: 0.19, {[7], [5], [9], [3], [8], [0], [6], [4], [1]})\n",
      "    (Agent [3]: 0.24, {[7], [2], [5], [9], [8], [0], [6], [4], [1]})\n",
      "    (Agent [4]: 0.12, {[7], [5], [9], [3], [8], [0], [6], [2], [1]})\n",
      "    (Agent [5]: 0.10, {[7], [2], [9], [3], [8], [0], [6], [4], [1]})\n",
      "    (Agent [6]: 0.28, {[7], [2], [5], [9], [3], [8], [0], [4], [1]})\n",
      "    (Agent [7]: 0.27, {[2], [5], [9], [3], [8], [0], [6], [4], [1]})\n",
      "    (Agent [8]: 0.22, {[7], [5], [9], [4], [3], [0], [6], [2], [1]})\n",
      "    (Agent [9]: 0.16, {[7], [2], [5], [3], [8], [0], [6], [4], [1]})\n",
      "]\n",
      "[\n",
      "    (Agent [0]: 0.19, {[7], [2], [5], [9], [3], [8], [6], [4], [1]})\n",
      "    (Agent [1]: 0.15, {[7], [2], [5], [9], [3], [8], [0], [6], [4]})\n",
      "    (Agent [2]: 0.42, {[7], [5], [9], [3], [8], [0], [6], [4], [1]})\n",
      "    (Agent [3]: 0.22, {[7], [2], [5], [9], [8], [0], [6], [4], [1]})\n",
      "    (Agent [4]: 0.26, {[7], [5], [9], [3], [8], [0], [6], [2], [1]})\n",
      "    (Agent [5]: 0.18, {[7], [2], [9], [3], [8], [0], [6], [4], [1]})\n",
      "    (Agent [6]: 0.15, {[7], [2], [5], [9], [3], [8], [0], [4], [1]})\n",
      "    (Agent [7]: 0.36, {[2], [5], [9], [3], [8], [0], [6], [4], [1]})\n",
      "    (Agent [8]: 0.33, {[7], [5], [9], [4], [3], [0], [6], [2], [1]})\n",
      "    (Agent [9]: 0.26, {[7], [2], [5], [3], [8], [0], [6], [4], [1]})\n",
      "]\n"
     ]
    }
   ],
   "source": [
    "# for each time step\n",
    "for u in range(max_time):\n",
    "    # update the assesment of each agent to a ratio between the agents observations and the mean of their peers\n",
    "    for agent in agents:\n",
    "        # observing\n",
    "        observation = np.random.normal(tau, noise/2) # random value from bell curve with tau as 2 std deviations\n",
    "        while observation <= 0 or observation > 1: # cutting off values outside (0, 1]\n",
    "            observation = np.random.normal(tau, noise/2)\n",
    "        \n",
    "        if agent.peers:\n",
    "            observation *= (1- alpha)\n",
    "\n",
    "            # listening to peers\n",
    "            collective_peer_assesment = alpha * stat.mean([peer.assesment for peer in agent.peers])\n",
    "\n",
    "            agent.assesment = observation + collective_peer_assesment\n",
    "        else:\n",
    "            agent.assesment = observation\n",
    "    \n",
    "    # update each agents peers\n",
    "    for agent in agents:\n",
    "        agent.update_peers(agents)\n",
    "    \n",
    "    print_agent_list(agents)\n",
    "\n",
    "        "
   ]
  }
 ],
 "metadata": {
  "kernelspec": {
   "display_name": "Python 3.10.6 64-bit",
   "language": "python",
   "name": "python3"
  },
  "language_info": {
   "codemirror_mode": {
    "name": "ipython",
    "version": 3
   },
   "file_extension": ".py",
   "mimetype": "text/x-python",
   "name": "python",
   "nbconvert_exporter": "python",
   "pygments_lexer": "ipython3",
   "version": "3.10.6"
  },
  "orig_nbformat": 4,
  "vscode": {
   "interpreter": {
    "hash": "e7370f93d1d0cde622a1f8e1c04877d8463912d04d973331ad4851f04de6915a"
   }
  }
 },
 "nbformat": 4,
 "nbformat_minor": 2
}

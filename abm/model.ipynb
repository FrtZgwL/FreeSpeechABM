{
 "cells": [
  {
   "cell_type": "code",
   "execution_count": 130,
   "metadata": {},
   "outputs": [],
   "source": [
    "import seaborn as sns\n",
    "import pandas as pd\n",
    "import matplotlib.pyplot as plt\n",
    "import os\n",
    "import random as rnd\n",
    "import statistics as stat\n",
    "import numpy as np"
   ]
  },
  {
   "cell_type": "markdown",
   "metadata": {},
   "source": [
    "# Model"
   ]
  },
  {
   "cell_type": "markdown",
   "metadata": {},
   "source": [
    "Will ich das ganze hier Objektorientiert angehen? Ich könnte jeden Akteur als Objekt betrachten, mit assesment und peers. Ich frage mich aber auch schon, ob das Programm dann schnell läuft, oder ob es sich noch irgendwie optimieren lässt.\n",
    "\n",
    "Große Frage: Wie programmiere ich die Zeitschritte optimal?\n",
    "\n",
    "Ich will:\n",
    "\n",
    "- update the assesment of every agent to their observation and the mean of their peers\n",
    "- update the peers of every agent\n",
    "\n",
    "Dabei frage ich mich, ob ich die peers von jedem agent schneller finden kann als, indem ich jedes mal jeden anderen Akteur betrachte. (Das ist wichtig, weil die Simulationen sonst lange dauern)\n",
    "\n",
    "Das ginge, wenn ich die Akteure in einer Liste speichere, die nach ihrem assesment sortiert ist. Dann muss ich mich nur vom gegenwärtigen Akteur nach links und rechts vortasten und kann aufhören, sobald ich zwei finde, die weiter weg sind als epsilon. Ich müsste also die Liste sortieren, nachdem ich die assesments geupdated habe. Könnte sein, dass ich dabei ein paar Schritte spare.\n",
    "\n",
    "Ich programmiere es jetzt erstmal brute force und wenn ich Geschwindigkeitsprobleme kriege, probier ich die Version."
   ]
  },
  {
   "cell_type": "code",
   "execution_count": 131,
   "metadata": {},
   "outputs": [],
   "source": [
    "# --- globals --- #\n",
    "\n",
    "# let there be n agents with random initial assesements\n",
    "# every agent is represented by an integer in [0, n)\n",
    "n = 10\n",
    "epsilon = .3\n",
    "alpha = .4\n",
    "noise = .5\n",
    "tau = .1\n",
    "max_time = 5\n",
    "data = []"
   ]
  },
  {
   "cell_type": "code",
   "execution_count": 132,
   "metadata": {},
   "outputs": [],
   "source": [
    "# --- classes --- #\n",
    "\n",
    "class Agent:\n",
    "    def __init__(self, id):\n",
    "        self.assesment = 1 - rnd.random() # values in (0, 1]\n",
    "        self.peers = set()\n",
    "        self.id = id\n",
    "    \n",
    "    def __str__(self):\n",
    "        return f\"assesment: {self.assesment} and peers: {self.peers}\"\n",
    "\n",
    "    def __repr__(self):\n",
    "        return f\"(Agent [{self.id}]: {self.assesment:.2f}, {self.peers})\"\n",
    "\n",
    "    def update_peers(self, agent_list):\n",
    "        for potential_peer in agent_list:\n",
    "            if (potential_peer.id != self.id and \n",
    "                    abs(potential_peer.assesment - self.assesment < epsilon)):\n",
    "                self.peers.add(potential_peer)"
   ]
  },
  {
   "cell_type": "code",
   "execution_count": 133,
   "metadata": {},
   "outputs": [],
   "source": [
    "# --- functions --- #\n",
    "\n",
    "def print_agent_list(agent_list):\n",
    "    print(\"[\")\n",
    "    for agent in agent_list:\n",
    "        representation = f\"    (Agent [{agent.id}]: {agent.assesment:.2f}, \" + \"{\"\n",
    "        representation += \", \".join(f\"[{peer.id}]\" for peer in agent.peers) + \"})\"\n",
    "    \n",
    "        print(representation)\n",
    "    print(\"]\")"
   ]
  },
  {
   "cell_type": "code",
   "execution_count": 134,
   "metadata": {},
   "outputs": [
    {
     "name": "stdout",
     "output_type": "stream",
     "text": [
      "[\n",
      "    (Agent [0]: 0.97, {})\n",
      "    (Agent [1]: 0.46, {})\n",
      "    (Agent [2]: 0.01, {})\n",
      "    (Agent [3]: 0.17, {})\n",
      "    (Agent [4]: 0.76, {})\n",
      "    (Agent [5]: 0.43, {})\n",
      "    (Agent [6]: 0.48, {})\n",
      "    (Agent [7]: 0.77, {})\n",
      "    (Agent [8]: 0.32, {})\n",
      "    (Agent [9]: 0.26, {})\n",
      "]\n",
      "[[0, 0, 0.9708462904552279], [1, 0, 0.459206252848514], [2, 0, 0.014178779597557867], [3, 0, 0.17452379686063435], [4, 0, 0.7597308613125231], [5, 0, 0.4320965960614652], [6, 0, 0.48089616833258886], [7, 0, 0.7732483671835412], [8, 0, 0.3221599983974409], [9, 0, 0.259132219923797]]\n"
     ]
    }
   ],
   "source": [
    "# --- main code for abm --- #\n",
    "\n",
    "agents = []\n",
    "for i in range(n):\n",
    "    agent = Agent(i)\n",
    "    agents.append(agent)\n",
    "    data.append([agent.id, 0, agent.assesment])\n",
    "\n",
    "print_agent_list(agents)\n",
    "print(data)"
   ]
  },
  {
   "cell_type": "code",
   "execution_count": 102,
   "metadata": {},
   "outputs": [
    {
     "name": "stdout",
     "output_type": "stream",
     "text": [
      "[\n",
      "    (Agent [0]: 0.48, {[6], [1], [8], [2], [5], [3], [4], [9]})\n",
      "    (Agent [1]: 0.08, {[6], [8], [5], [3], [4], [9]})\n",
      "    (Agent [2]: 0.41, {[6], [1], [0], [8], [5], [3], [4], [9]})\n",
      "    (Agent [3]: 0.38, {[6], [1], [0], [8], [2], [5], [4], [9]})\n",
      "    (Agent [4]: 0.32, {[6], [1], [0], [8], [2], [5], [3], [9]})\n",
      "    (Agent [5]: 0.27, {[6], [1], [0], [8], [2], [3], [4], [9]})\n",
      "    (Agent [6]: 0.04, {[1], [8], [5], [4], [9]})\n",
      "    (Agent [7]: 0.89, {[6], [1], [0], [8], [2], [5], [3], [4], [9]})\n",
      "    (Agent [8]: 0.33, {[6], [1], [0], [2], [5], [3], [4], [9]})\n",
      "    (Agent [9]: 0.22, {[6], [1], [0], [8], [2], [5], [3], [4]})\n",
      "]\n"
     ]
    }
   ],
   "source": [
    "# for each agent let there be a set of agents with similar assesments\n",
    "for i in range(n):\n",
    "    agents[i].update_peers(agents)\n",
    "\n",
    "print_agent_list(agents)"
   ]
  },
  {
   "cell_type": "code",
   "execution_count": 103,
   "metadata": {},
   "outputs": [
    {
     "name": "stdout",
     "output_type": "stream",
     "text": [
      "[\n",
      "    (Agent [0]: 0.14, {[6], [1], [8], [2], [5], [7], [3], [4], [9]})\n",
      "    (Agent [1]: 0.17, {[6], [0], [8], [2], [5], [7], [3], [4], [9]})\n",
      "    (Agent [2]: 0.30, {[6], [1], [0], [8], [5], [7], [3], [4], [9]})\n",
      "    (Agent [3]: 0.09, {[6], [1], [0], [8], [2], [5], [7], [4], [9]})\n",
      "    (Agent [4]: 0.21, {[6], [1], [0], [8], [2], [5], [7], [3], [9]})\n",
      "    (Agent [5]: 0.16, {[6], [1], [0], [8], [2], [7], [3], [4], [9]})\n",
      "    (Agent [6]: 0.16, {[1], [0], [8], [2], [5], [7], [3], [4], [9]})\n",
      "    (Agent [7]: 0.17, {[6], [1], [0], [8], [2], [5], [3], [4], [9]})\n",
      "    (Agent [8]: 0.12, {[6], [1], [0], [2], [5], [7], [3], [4], [9]})\n",
      "    (Agent [9]: 0.10, {[6], [1], [0], [8], [2], [5], [7], [3], [4]})\n",
      "]\n",
      "[\n",
      "    (Agent [0]: 0.34, {[6], [1], [8], [2], [5], [7], [3], [4], [9]})\n",
      "    (Agent [1]: 0.22, {[6], [0], [8], [2], [5], [7], [3], [4], [9]})\n",
      "    (Agent [2]: 0.18, {[6], [1], [0], [8], [5], [7], [3], [4], [9]})\n",
      "    (Agent [3]: 0.31, {[6], [1], [0], [8], [2], [5], [7], [4], [9]})\n",
      "    (Agent [4]: 0.13, {[6], [1], [0], [8], [2], [5], [7], [3], [9]})\n",
      "    (Agent [5]: 0.26, {[6], [1], [0], [8], [2], [7], [3], [4], [9]})\n",
      "    (Agent [6]: 0.17, {[1], [0], [8], [2], [5], [7], [3], [4], [9]})\n",
      "    (Agent [7]: 0.12, {[6], [1], [0], [8], [2], [5], [3], [4], [9]})\n",
      "    (Agent [8]: 0.13, {[6], [1], [0], [2], [5], [7], [3], [4], [9]})\n",
      "    (Agent [9]: 0.15, {[6], [1], [0], [8], [2], [5], [7], [3], [4]})\n",
      "]\n",
      "[\n",
      "    (Agent [0]: 0.16, {[6], [1], [8], [2], [5], [7], [3], [4], [9]})\n",
      "    (Agent [1]: 0.22, {[6], [0], [8], [2], [5], [7], [3], [4], [9]})\n",
      "    (Agent [2]: 0.27, {[6], [1], [0], [8], [5], [7], [3], [4], [9]})\n",
      "    (Agent [3]: 0.37, {[6], [1], [0], [8], [2], [5], [7], [4], [9]})\n",
      "    (Agent [4]: 0.21, {[6], [1], [0], [8], [2], [5], [7], [3], [9]})\n",
      "    (Agent [5]: 0.28, {[6], [1], [0], [8], [2], [7], [3], [4], [9]})\n",
      "    (Agent [6]: 0.10, {[1], [0], [8], [2], [5], [7], [3], [4], [9]})\n",
      "    (Agent [7]: 0.19, {[6], [1], [0], [8], [2], [5], [3], [4], [9]})\n",
      "    (Agent [8]: 0.29, {[6], [1], [0], [2], [5], [7], [3], [4], [9]})\n",
      "    (Agent [9]: 0.19, {[6], [1], [0], [8], [2], [5], [7], [3], [4]})\n",
      "]\n",
      "[\n",
      "    (Agent [0]: 0.24, {[6], [1], [8], [2], [5], [7], [3], [4], [9]})\n",
      "    (Agent [1]: 0.28, {[6], [0], [8], [2], [5], [7], [3], [4], [9]})\n",
      "    (Agent [2]: 0.10, {[6], [1], [0], [8], [5], [7], [3], [4], [9]})\n",
      "    (Agent [3]: 0.16, {[6], [1], [0], [8], [2], [5], [7], [4], [9]})\n",
      "    (Agent [4]: 0.11, {[6], [1], [0], [8], [2], [5], [7], [3], [9]})\n",
      "    (Agent [5]: 0.49, {[6], [1], [0], [8], [2], [7], [3], [4], [9]})\n",
      "    (Agent [6]: 0.18, {[1], [0], [8], [2], [5], [7], [3], [4], [9]})\n",
      "    (Agent [7]: 0.14, {[6], [1], [0], [8], [2], [5], [3], [4], [9]})\n",
      "    (Agent [8]: 0.39, {[6], [1], [0], [2], [5], [7], [3], [4], [9]})\n",
      "    (Agent [9]: 0.31, {[6], [1], [0], [8], [2], [5], [7], [3], [4]})\n",
      "]\n",
      "[\n",
      "    (Agent [0]: 0.12, {[6], [1], [8], [2], [5], [7], [3], [4], [9]})\n",
      "    (Agent [1]: 0.16, {[6], [0], [8], [2], [5], [7], [3], [4], [9]})\n",
      "    (Agent [2]: 0.16, {[6], [1], [0], [8], [5], [7], [3], [4], [9]})\n",
      "    (Agent [3]: 0.12, {[6], [1], [0], [8], [2], [5], [7], [4], [9]})\n",
      "    (Agent [4]: 0.14, {[6], [1], [0], [8], [2], [5], [7], [3], [9]})\n",
      "    (Agent [5]: 0.16, {[6], [1], [0], [8], [2], [7], [3], [4], [9]})\n",
      "    (Agent [6]: 0.48, {[1], [0], [8], [2], [5], [7], [3], [4], [9]})\n",
      "    (Agent [7]: 0.14, {[6], [1], [0], [8], [2], [5], [3], [4], [9]})\n",
      "    (Agent [8]: 0.14, {[6], [1], [0], [2], [5], [7], [3], [4], [9]})\n",
      "    (Agent [9]: 0.20, {[6], [1], [0], [8], [2], [5], [7], [3], [4]})\n",
      "]\n"
     ]
    }
   ],
   "source": [
    "# for each time step\n",
    "for u in range(1, max_time): # we did the fist step by setting everything up\n",
    "    # update the assesment of each agent to a ratio between the agents observations and the mean of their peers\n",
    "    for agent in agents:\n",
    "        # observing\n",
    "        observation = np.random.normal(tau, noise/2) # random value from bell curve with tau as 2 std deviations\n",
    "        while observation <= 0 or observation > 1: # cutting off values outside (0, 1]\n",
    "            observation = np.random.normal(tau, noise/2)\n",
    "        \n",
    "        if agent.peers:\n",
    "            observation *= (1- alpha)\n",
    "\n",
    "            # listening to peers\n",
    "            collective_peer_assesment = alpha * stat.mean([peer.assesment for peer in agent.peers])\n",
    "\n",
    "            agent.assesment = observation + collective_peer_assesment\n",
    "        else:\n",
    "            # TODO: unneccessary: I should be my own peer; also: copy the assesments and work on a dict that doesnt change while you do it\n",
    "            agent.assesment = observation\n",
    "    \n",
    "        data.append([agent.id, u, agent.assesment])\n",
    "\n",
    "    # update each agents peers\n",
    "    for agent in agents:\n",
    "        agent.update_peers(agents)\n",
    "    \n",
    "    print_agent_list(agents)\n",
    "\n",
    "        "
   ]
  },
  {
   "cell_type": "code",
   "execution_count": null,
   "metadata": {},
   "outputs": [],
   "source": [
    "# --- figuring out how to store the data --- #\n",
    "\n",
    "# seaborn\n",
    "dots = sns.load_dataset(\"dots\")\n",
    "sns.relplot(\n",
    "    data=results, kind=\"line\",\n",
    "    x=\"time\", y=\"assesment\"\n",
    "    hue=\"agent\",\n",
    "    facet_kws=dict(sharex=False),#wat is dis?\n",
    ")\n",
    "\n",
    "# ich will...\n",
    "# Alle Daten in pd dataframe\n",
    "# ein column: time\n",
    "# ein column: agent\n",
    "# ein column: assesment\n",
    "# dann einen Graphen mit mehreren Linien, die auf der x-Achse die Zeit und auf y das assesment haben"
   ]
  },
  {
   "cell_type": "code",
   "execution_count": 114,
   "metadata": {},
   "outputs": [
    {
     "data": {
      "text/html": [
       "<div>\n",
       "<style scoped>\n",
       "    .dataframe tbody tr th:only-of-type {\n",
       "        vertical-align: middle;\n",
       "    }\n",
       "\n",
       "    .dataframe tbody tr th {\n",
       "        vertical-align: top;\n",
       "    }\n",
       "\n",
       "    .dataframe thead th {\n",
       "        text-align: right;\n",
       "    }\n",
       "</style>\n",
       "<table border=\"1\" class=\"dataframe\">\n",
       "  <thead>\n",
       "    <tr style=\"text-align: right;\">\n",
       "      <th></th>\n",
       "      <th>one</th>\n",
       "      <th>two</th>\n",
       "      <th>three</th>\n",
       "    </tr>\n",
       "  </thead>\n",
       "  <tbody>\n",
       "    <tr>\n",
       "      <th>0</th>\n",
       "      <td>1</td>\n",
       "      <td>2</td>\n",
       "      <td>3</td>\n",
       "    </tr>\n",
       "    <tr>\n",
       "      <th>1</th>\n",
       "      <td>10</td>\n",
       "      <td>20</td>\n",
       "      <td>30</td>\n",
       "    </tr>\n",
       "    <tr>\n",
       "      <th>2</th>\n",
       "      <td>100</td>\n",
       "      <td>200</td>\n",
       "      <td>300</td>\n",
       "    </tr>\n",
       "    <tr>\n",
       "      <th>3</th>\n",
       "      <td>1000</td>\n",
       "      <td>2000</td>\n",
       "      <td>3000</td>\n",
       "    </tr>\n",
       "  </tbody>\n",
       "</table>\n",
       "</div>"
      ],
      "text/plain": [
       "    one   two  three\n",
       "0     1     2      3\n",
       "1    10    20     30\n",
       "2   100   200    300\n",
       "3  1000  2000   3000"
      ]
     },
     "execution_count": 114,
     "metadata": {},
     "output_type": "execute_result"
    }
   ],
   "source": [
    "# \"agent\", \"time\", \"assesment\"\n",
    "\n",
    "dict = {\n",
    "    1: [1, 2, 3],\n",
    "    2: [2, 4, 6],\n",
    "    3: [3, 9, 18],\n",
    "    4: [4, 8, 16]\n",
    "}\n",
    "\n",
    "arr = [\n",
    "    [1, 2, 3],\n",
    "    [10, 20, 30],\n",
    "    [100, 200, 300]\n",
    "]\n",
    "\n",
    "arr.append([1000, 2000, 3000])\n",
    "\n",
    "pd.DataFrame(arr, columns=[\"one\", \"two\", \"three\"])"
   ]
  },
  {
   "cell_type": "code",
   "execution_count": 137,
   "metadata": {},
   "outputs": [
    {
     "name": "stdout",
     "output_type": "stream",
     "text": [
      "1\n",
      "2\n",
      "3\n",
      "4\n",
      "5\n",
      "6\n",
      "7\n",
      "8\n",
      "9\n"
     ]
    }
   ],
   "source": [
    "for i in range(1, 10):\n",
    "    print(i)"
   ]
  },
  {
   "cell_type": "code",
   "execution_count": null,
   "metadata": {},
   "outputs": [],
   "source": []
  }
 ],
 "metadata": {
  "kernelspec": {
   "display_name": "Python 3.10.6 64-bit",
   "language": "python",
   "name": "python3"
  },
  "language_info": {
   "codemirror_mode": {
    "name": "ipython",
    "version": 3
   },
   "file_extension": ".py",
   "mimetype": "text/x-python",
   "name": "python",
   "nbconvert_exporter": "python",
   "pygments_lexer": "ipython3",
   "version": "3.10.6"
  },
  "orig_nbformat": 4,
  "vscode": {
   "interpreter": {
    "hash": "e7370f93d1d0cde622a1f8e1c04877d8463912d04d973331ad4851f04de6915a"
   }
  }
 },
 "nbformat": 4,
 "nbformat_minor": 2
}
